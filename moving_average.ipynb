{
 "cells": [
  {
   "metadata": {
    "ExecuteTime": {
     "end_time": "2024-11-15T14:37:09.786567Z",
     "start_time": "2024-11-15T14:37:09.634536Z"
    }
   },
   "cell_type": "code",
   "source": [
    "import numpy as np\n",
    "\n",
    "# Path to your CSV file\n",
    "path_train = 'data/train_data.npy'\n",
    "path_test = 'data/test_data.npy'\n",
    "path_test_label = 'data/test_labels.npy'\n",
    "\n",
    "# Read the CSV file into a DataFrame\n",
    "train = np.load(path_train)\n",
    "test = np.load(path_test)\n",
    "test_labels = np.load(path_test_label)"
   ],
   "id": "184c2754e96d85c6",
   "outputs": [],
   "execution_count": 2
  },
  {
   "metadata": {
    "ExecuteTime": {
     "end_time": "2024-11-15T14:45:01.316733Z",
     "start_time": "2024-11-15T14:45:00.371641Z"
    }
   },
   "cell_type": "code",
   "source": [
    "import pandas as pd\n",
    "import matplotlib.pyplot as plt\n",
    "import math\n",
    "\n",
    "def plot_distribution(df):\n",
    "    # Number of columns\n",
    "    num_columns = len(df.columns)\n",
    "    \n",
    "    # Calculate the number of rows and columns for the subplots\n",
    "    num_rows = math.ceil(num_columns / 3)\n",
    "    num_cols = min(num_columns, 3)\n",
    "    \n",
    "    # Create subplots\n",
    "    fig, axes = plt.subplots(nrows=num_rows, ncols=num_cols, figsize=(15, num_rows * 5))\n",
    "    \n",
    "    # Flatten the axes array if there's more than one plot\n",
    "    axes = axes.flatten() if num_columns > 1 else [axes]\n",
    "    \n",
    "    # Plot data distribution for each column\n",
    "    for i, column in enumerate(df.columns):\n",
    "        axes[i].hist(df[column], bins=10, edgecolor='black', alpha=0.7)\n",
    "        axes[i].set_title(f'Distribution of {column}')\n",
    "        axes[i].set_xlabel(column)\n",
    "        axes[i].set_ylabel('Frequency')\n",
    "    \n",
    "    # Remove any unused axes\n",
    "    for ax in axes[num_columns:]:\n",
    "        ax.remove()\n",
    "    \n",
    "    plt.tight_layout()\n",
    "    plt.show()"
   ],
   "id": "6f6207ffce9be79e",
   "outputs": [],
   "execution_count": 7
  },
  {
   "metadata": {
    "collapsed": true,
    "jupyter": {
     "is_executing": true
    },
    "ExecuteTime": {
     "start_time": "2024-11-15T14:50:41.063090Z"
    }
   },
   "cell_type": "code",
   "source": [
    "import numpy as np\n",
    "from sklearn.base import BaseEstimator\n",
    "from sklearn.metrics import f1_score\n",
    "from sklearn.model_selection import GridSearchCV\n",
    "\n",
    "# Define the custom estimator class\n",
    "class MovingAverageAnomalyDetector(BaseEstimator):\n",
    "    diffs = []\n",
    "    def __init__(self, m=100, threshold=2.0):\n",
    "        self.m = m  # Moving average window size\n",
    "        self.threshold = threshold  # Anomaly detection threshold\n",
    "\n",
    "    def fit(self, X, y=None):\n",
    "        # Fit method is required by sklearn but we don't need to do anything for this specific case\n",
    "        return self\n",
    "\n",
    "    def predict(self, X):\n",
    "        # Initialize an array to store detected anomalies\n",
    "        detected_anomalies = np.zeros(len(X))\n",
    "\n",
    "        # Loop over data, starting from index m\n",
    "        for i in range(self.m, len(X)):\n",
    "            # Calculate the moving average for each column (feature) for the last m values\n",
    "            moving_avg = np.mean(X[i-self.m:i], axis=0)\n",
    "\n",
    "            # Calculate the difference between the current value and moving average for each column\n",
    "            diff = np.abs(X[i] - moving_avg)\n",
    "            self.diffs.append(diff)\n",
    "            # If any of the differences exceed the threshold, mark as anomaly\n",
    "            if np.any(diff > self.threshold):\n",
    "                detected_anomalies[i] = 1  # Mark as anomaly\n",
    "\n",
    "        return detected_anomalies\n",
    "\n",
    "    def score(self, X, y):\n",
    "        # Predict anomalies\n",
    "        predicted_anomalies = self.predict(X)\n",
    "        \n",
    "        # Calculate and return F1 score\n",
    "        return f1_score(y, predicted_anomalies)\n",
    "\n",
    "    def get_params(self, deep=True):\n",
    "        \"\"\" Get hyperparameters of the model \"\"\"\n",
    "        return {'m': self.m, 'threshold': self.threshold}\n",
    "\n",
    "    def set_params(self, **params):\n",
    "        \"\"\" Set hyperparameters of the model \"\"\"\n",
    "        for param, value in params.items():\n",
    "            setattr(self, param, value)\n",
    "        return self\n",
    "\n",
    "data = test\n",
    "labels = test_labels\n",
    "\n",
    "# Hyperparameter grid for tuning\n",
    "param_grid = {\n",
    "    'm': [10, 50, 100],  # Test different window sizes\n",
    "    'threshold': [0.001, 0.01, 0.02, 0.021]  # Test different threshold values\n",
    "}\n",
    "\n",
    "# Initialize the model and grid search\n",
    "model = MovingAverageAnomalyDetector()\n",
    "grid_search = GridSearchCV(model, param_grid, cv=3, scoring='f1', verbose=1)\n",
    "\n",
    "# Fit the model to the data and search for the best parameters\n",
    "grid_search.fit(data, labels)\n",
    "\n",
    "# Get the best parameters from the grid search\n",
    "print(\"Best Parameters: \", grid_search.best_params_)\n",
    "\n",
    "# Get the best F1 score from the grid search\n",
    "best_f1_score = grid_search.best_score_\n",
    "print(f\"Best F1 Score: {best_f1_score}\")"
   ],
   "id": "initial_id",
   "outputs": [
    {
     "name": "stdout",
     "output_type": "stream",
     "text": [
      "Fitting 3 folds for each of 12 candidates, totalling 36 fits\n"
     ]
    }
   ],
   "execution_count": null
  },
  {
   "metadata": {
    "ExecuteTime": {
     "end_time": "2024-11-15T14:50:05.096256Z",
     "start_time": "2024-11-15T14:50:05.090935Z"
    }
   },
   "cell_type": "code",
   "source": [
    "print(min(model.diffs[0]))\n",
    "print(max(model.diffs[0]))"
   ],
   "id": "458f15b16b3fab3f",
   "outputs": [
    {
     "name": "stdout",
     "output_type": "stream",
     "text": [
      "0.0\n",
      "0.022963648648893442\n"
     ]
    }
   ],
   "execution_count": 19
  },
  {
   "metadata": {
    "ExecuteTime": {
     "end_time": "2024-11-15T14:50:02.047468Z",
     "start_time": "2024-11-15T14:50:01.769746Z"
    }
   },
   "cell_type": "code",
   "source": "plot_distribution(pd.DataFrame(model.diffs[0]))",
   "id": "f9e703b29e5520d7",
   "outputs": [
    {
     "data": {
      "text/plain": [
       "<Figure size 1500x500 with 1 Axes>"
      ],
      "image/png": "[encoded data removed]"
     },
     "metadata": {},
     "output_type": "display_data"
    }
   ],
   "execution_count": 18
  },
  {
   "metadata": {
    "ExecuteTime": {
     "end_time": "2024-11-15T14:49:50.966426Z",
     "start_time": "2024-11-15T14:49:50.252181Z"
    }
   },
   "cell_type": "code",
   "source": "np.array(model.diffs)[0].shape",
   "id": "ef8f9eb98bc40065",
   "outputs": [
    {
     "data": {
      "text/plain": [
       "(41,)"
      ]
     },
     "execution_count": 17,
     "metadata": {},
     "output_type": "execute_result"
    }
   ],
   "execution_count": 17
  },
  {
   "metadata": {},
   "cell_type": "code",
   "outputs": [],
   "execution_count": null,
   "source": "",
   "id": "6d59531b063cf399"
  }
 ],
 "metadata": {
  "kernelspec": {
   "display_name": "Python 3",
   "language": "python",
   "name": "python3"
  },
  "language_info": {
   "codemirror_mode": {
    "name": "ipython",
    "version": 2
   },
   "file_extension": ".py",
   "mimetype": "text/x-python",
   "name": "python",
   "nbconvert_exporter": "python",
   "pygments_lexer": "ipython2",
   "version": "2.7.6"
  }
 },
 "nbformat": 4,
 "nbformat_minor": 5
}

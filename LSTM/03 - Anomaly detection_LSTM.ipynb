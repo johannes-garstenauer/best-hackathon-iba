{
 "cells": [
  {
   "cell_type": "code",
   "execution_count": 1,
   "metadata": {
    "ExecuteTime": {
     "end_time": "2024-11-16T09:52:23.198583Z",
     "start_time": "2024-11-16T09:52:17.056931Z"
    },
    "colab": {
     "base_uri": "https://localhost:8080/",
     "height": 55
    },
    "executionInfo": {
     "elapsed": 10575,
     "status": "ok",
     "timestamp": 1731758887207,
     "user": {
      "displayName": "Volker Drewes",
      "userId": "09669654110949049688"
     },
     "user_tz": -60
    },
    "id": "DP4YR0RPzYny",
    "outputId": "42d0e190-5eca-4acc-fdd0-0433a71e4989"
   },
   "outputs": [
    {
     "name": "stderr",
     "output_type": "stream",
     "text": [
      "2024-11-17 01:49:48.647738: I tensorflow/core/util/port.cc:113] oneDNN custom operations are on. You may see slightly different numerical results due to floating-point round-off errors from different computation orders. To turn them off, set the environment variable `TF_ENABLE_ONEDNN_OPTS=0`.\n",
      "2024-11-17 01:49:48.670379: E external/local_xla/xla/stream_executor/cuda/cuda_dnn.cc:9261] Unable to register cuDNN factory: Attempting to register factory for plugin cuDNN when one has already been registered\n",
      "2024-11-17 01:49:48.670412: E external/local_xla/xla/stream_executor/cuda/cuda_fft.cc:607] Unable to register cuFFT factory: Attempting to register factory for plugin cuFFT when one has already been registered\n",
      "2024-11-17 01:49:48.671324: E external/local_xla/xla/stream_executor/cuda/cuda_blas.cc:1515] Unable to register cuBLAS factory: Attempting to register factory for plugin cuBLAS when one has already been registered\n",
      "2024-11-17 01:49:48.677635: I tensorflow/core/platform/cpu_feature_guard.cc:182] This TensorFlow binary is optimized to use available CPU instructions in performance-critical operations.\n",
      "To enable the following instructions: SSE4.1 SSE4.2 AVX AVX2 AVX512F AVX512_VNNI AVX512_BF16 FMA, in other operations, rebuild TensorFlow with the appropriate compiler flags.\n"
     ]
    },
    {
     "data": {
      "text/plain": [
       "'\\nregister_matplotlib_converters()\\nsns.set(style=\"whitegrid\", palette= \"muted\", font_scale =1.5)\\nrcParams[\\'figure.figsize\\']=22,10\\n'"
      ]
     },
     "execution_count": 1,
     "metadata": {},
     "output_type": "execute_result"
    }
   ],
   "source": [
    "import json\n",
    "import pandas as pd\n",
    "import numpy as np\n",
    "from sklearn.model_selection import train_test_split\n",
    "from tensorflow import keras\n",
    "import tensorflow as tf\n",
    "from tensorflow.python.client import device_lib\n",
    "from tensorflow.keras import layers, models\n",
    "\n",
    "import seaborn as sns\n",
    "# from pylab import rcParams\n",
    "import matplotlib.pyplot as plt\n",
    "from pandas.plotting import register_matplotlib_converters\n",
    "from sklearn.preprocessing import StandardScaler\n",
    "\n",
    "\n",
    "import warnings\n",
    "warnings.filterwarnings(\"ignore\")\n",
    "%matplotlib inline\n",
    "\n",
    "'''\n",
    "register_matplotlib_converters()\n",
    "sns.set(style=\"whitegrid\", palette= \"muted\", font_scale =1.5)\n",
    "rcParams['figure.figsize']=22,10\n",
    "'''"
   ]
  },
  {
   "cell_type": "code",
   "execution_count": 2,
   "metadata": {
    "ExecuteTime": {
     "end_time": "2024-11-16T09:52:24.678634Z",
     "start_time": "2024-11-16T09:52:24.662634Z"
    },
    "colab": {
     "base_uri": "https://localhost:8080/"
    },
    "executionInfo": {
     "elapsed": 875,
     "status": "ok",
     "timestamp": 1731758888077,
     "user": {
      "displayName": "Volker Drewes",
      "userId": "09669654110949049688"
     },
     "user_tz": -60
    },
    "id": "yzbkzdrkvjwA",
    "outputId": "b78bd51f-206d-44a2-c18f-d125b7dc5dd0"
   },
   "outputs": [
    {
     "name": "stdout",
     "output_type": "stream",
     "text": [
      "Num GPUs Available:  1\n"
     ]
    },
    {
     "name": "stderr",
     "output_type": "stream",
     "text": [
      "2024-11-17 01:49:49.128615: I external/local_xla/xla/stream_executor/cuda/cuda_executor.cc:887] could not open file to read NUMA node: /sys/bus/pci/devices/0000:01:00.0/numa_node\n",
      "Your kernel may have been built without NUMA support.\n",
      "2024-11-17 01:49:49.192529: I external/local_xla/xla/stream_executor/cuda/cuda_executor.cc:887] could not open file to read NUMA node: /sys/bus/pci/devices/0000:01:00.0/numa_node\n",
      "Your kernel may have been built without NUMA support.\n",
      "2024-11-17 01:49:49.192576: I external/local_xla/xla/stream_executor/cuda/cuda_executor.cc:887] could not open file to read NUMA node: /sys/bus/pci/devices/0000:01:00.0/numa_node\n",
      "Your kernel may have been built without NUMA support.\n",
      "2024-11-17 01:49:49.196726: I external/local_xla/xla/stream_executor/cuda/cuda_executor.cc:887] could not open file to read NUMA node: /sys/bus/pci/devices/0000:01:00.0/numa_node\n",
      "Your kernel may have been built without NUMA support.\n",
      "2024-11-17 01:49:49.196770: I external/local_xla/xla/stream_executor/cuda/cuda_executor.cc:887] could not open file to read NUMA node: /sys/bus/pci/devices/0000:01:00.0/numa_node\n",
      "Your kernel may have been built without NUMA support.\n",
      "2024-11-17 01:49:49.196786: I external/local_xla/xla/stream_executor/cuda/cuda_executor.cc:887] could not open file to read NUMA node: /sys/bus/pci/devices/0000:01:00.0/numa_node\n",
      "Your kernel may have been built without NUMA support.\n",
      "2024-11-17 01:49:49.340809: I external/local_xla/xla/stream_executor/cuda/cuda_executor.cc:887] could not open file to read NUMA node: /sys/bus/pci/devices/0000:01:00.0/numa_node\n",
      "Your kernel may have been built without NUMA support.\n",
      "2024-11-17 01:49:49.340876: I external/local_xla/xla/stream_executor/cuda/cuda_executor.cc:887] could not open file to read NUMA node: /sys/bus/pci/devices/0000:01:00.0/numa_node\n",
      "Your kernel may have been built without NUMA support.\n",
      "2024-11-17 01:49:49.340886: I tensorflow/core/common_runtime/gpu/gpu_device.cc:2022] Could not identify NUMA node of platform GPU id 0, defaulting to 0.  Your kernel may not have been built with NUMA support.\n",
      "2024-11-17 01:49:49.340918: I external/local_xla/xla/stream_executor/cuda/cuda_executor.cc:887] could not open file to read NUMA node: /sys/bus/pci/devices/0000:01:00.0/numa_node\n",
      "Your kernel may have been built without NUMA support.\n",
      "2024-11-17 01:49:49.340933: I tensorflow/core/common_runtime/gpu/gpu_device.cc:1929] Created device /device:GPU:0 with 21458 MB memory:  -> device: 0, name: NVIDIA GeForce RTX 4090, pci bus id: 0000:01:00.0, compute capability: 8.9\n"
     ]
    },
    {
     "data": {
      "text/plain": [
       "[name: \"/device:CPU:0\"\n",
       " device_type: \"CPU\"\n",
       " memory_limit: 268435456\n",
       " locality {\n",
       " }\n",
       " incarnation: 17182034393040605089\n",
       " xla_global_id: -1,\n",
       " name: \"/device:GPU:0\"\n",
       " device_type: \"GPU\"\n",
       " memory_limit: 22500343808\n",
       " locality {\n",
       "   bus_id: 1\n",
       "   links {\n",
       "   }\n",
       " }\n",
       " incarnation: 1074801055428654644\n",
       " physical_device_desc: \"device: 0, name: NVIDIA GeForce RTX 4090, pci bus id: 0000:01:00.0, compute capability: 8.9\"\n",
       " xla_global_id: 416903419]"
      ]
     },
     "execution_count": 2,
     "metadata": {},
     "output_type": "execute_result"
    }
   ],
   "source": [
    "print(\"Num GPUs Available: \", len(tf.config.list_physical_devices('GPU')))\n",
    "device_lib.list_local_devices()"
   ]
  },
  {
   "cell_type": "code",
   "execution_count": 3,
   "metadata": {
    "ExecuteTime": {
     "end_time": "2024-11-16T09:52:26.777836Z",
     "start_time": "2024-11-16T09:52:26.566972Z"
    },
    "colab": {
     "base_uri": "https://localhost:8080/",
     "height": 255
    },
    "executionInfo": {
     "elapsed": 3514,
     "status": "ok",
     "timestamp": 1731758891588,
     "user": {
      "displayName": "Volker Drewes",
      "userId": "09669654110949049688"
     },
     "user_tz": -60
    },
    "id": "P4HTQz5nvjwB",
    "outputId": "d3cf2399-38cd-49fd-fdc6-097b71f1d088"
   },
   "outputs": [
    {
     "data": {
      "text/html": [
       "<div>\n",
       "<style scoped>\n",
       "    .dataframe tbody tr th:only-of-type {\n",
       "        vertical-align: middle;\n",
       "    }\n",
       "\n",
       "    .dataframe tbody tr th {\n",
       "        vertical-align: top;\n",
       "    }\n",
       "\n",
       "    .dataframe thead th {\n",
       "        text-align: right;\n",
       "    }\n",
       "</style>\n",
       "<table border=\"1\" class=\"dataframe\">\n",
       "  <thead>\n",
       "    <tr style=\"text-align: right;\">\n",
       "      <th></th>\n",
       "      <th>0</th>\n",
       "      <th>1</th>\n",
       "      <th>2</th>\n",
       "      <th>3</th>\n",
       "      <th>4</th>\n",
       "      <th>5</th>\n",
       "      <th>6</th>\n",
       "      <th>7</th>\n",
       "      <th>8</th>\n",
       "      <th>9</th>\n",
       "      <th>...</th>\n",
       "      <th>41</th>\n",
       "      <th>42</th>\n",
       "      <th>43</th>\n",
       "      <th>44</th>\n",
       "      <th>45</th>\n",
       "      <th>46</th>\n",
       "      <th>47</th>\n",
       "      <th>48</th>\n",
       "      <th>49</th>\n",
       "      <th>50</th>\n",
       "    </tr>\n",
       "  </thead>\n",
       "  <tbody>\n",
       "    <tr>\n",
       "      <th>0</th>\n",
       "      <td>0.0</td>\n",
       "      <td>0.005294</td>\n",
       "      <td>0.5</td>\n",
       "      <td>0.0</td>\n",
       "      <td>0.0</td>\n",
       "      <td>0.012291</td>\n",
       "      <td>0.075099</td>\n",
       "      <td>0.002009</td>\n",
       "      <td>0.0</td>\n",
       "      <td>0.5</td>\n",
       "      <td>...</td>\n",
       "      <td>0.0</td>\n",
       "      <td>0.0</td>\n",
       "      <td>0.0</td>\n",
       "      <td>0.000814</td>\n",
       "      <td>0.0</td>\n",
       "      <td>0.001217</td>\n",
       "      <td>0.000147</td>\n",
       "      <td>0.0</td>\n",
       "      <td>0.0</td>\n",
       "      <td>0.0</td>\n",
       "    </tr>\n",
       "    <tr>\n",
       "      <th>1</th>\n",
       "      <td>0.0</td>\n",
       "      <td>0.005407</td>\n",
       "      <td>0.5</td>\n",
       "      <td>0.0</td>\n",
       "      <td>0.0</td>\n",
       "      <td>0.012291</td>\n",
       "      <td>0.075099</td>\n",
       "      <td>0.002009</td>\n",
       "      <td>0.0</td>\n",
       "      <td>0.5</td>\n",
       "      <td>...</td>\n",
       "      <td>0.0</td>\n",
       "      <td>0.0</td>\n",
       "      <td>0.0</td>\n",
       "      <td>0.000814</td>\n",
       "      <td>0.0</td>\n",
       "      <td>0.001217</td>\n",
       "      <td>0.000147</td>\n",
       "      <td>0.0</td>\n",
       "      <td>0.0</td>\n",
       "      <td>0.0</td>\n",
       "    </tr>\n",
       "    <tr>\n",
       "      <th>2</th>\n",
       "      <td>0.0</td>\n",
       "      <td>0.005520</td>\n",
       "      <td>0.5</td>\n",
       "      <td>0.0</td>\n",
       "      <td>0.0</td>\n",
       "      <td>0.012291</td>\n",
       "      <td>0.075099</td>\n",
       "      <td>0.002009</td>\n",
       "      <td>0.0</td>\n",
       "      <td>0.5</td>\n",
       "      <td>...</td>\n",
       "      <td>0.0</td>\n",
       "      <td>0.0</td>\n",
       "      <td>0.0</td>\n",
       "      <td>0.000814</td>\n",
       "      <td>0.0</td>\n",
       "      <td>0.001217</td>\n",
       "      <td>0.000147</td>\n",
       "      <td>0.0</td>\n",
       "      <td>0.0</td>\n",
       "      <td>0.0</td>\n",
       "    </tr>\n",
       "    <tr>\n",
       "      <th>3</th>\n",
       "      <td>0.0</td>\n",
       "      <td>0.005801</td>\n",
       "      <td>0.5</td>\n",
       "      <td>0.0</td>\n",
       "      <td>0.0</td>\n",
       "      <td>0.012291</td>\n",
       "      <td>0.075099</td>\n",
       "      <td>0.002009</td>\n",
       "      <td>0.0</td>\n",
       "      <td>0.5</td>\n",
       "      <td>...</td>\n",
       "      <td>0.0</td>\n",
       "      <td>0.0</td>\n",
       "      <td>0.0</td>\n",
       "      <td>0.000814</td>\n",
       "      <td>0.0</td>\n",
       "      <td>0.001217</td>\n",
       "      <td>0.000147</td>\n",
       "      <td>0.0</td>\n",
       "      <td>0.0</td>\n",
       "      <td>0.0</td>\n",
       "    </tr>\n",
       "    <tr>\n",
       "      <th>4</th>\n",
       "      <td>0.0</td>\n",
       "      <td>0.005576</td>\n",
       "      <td>0.5</td>\n",
       "      <td>0.0</td>\n",
       "      <td>0.0</td>\n",
       "      <td>0.012291</td>\n",
       "      <td>0.075099</td>\n",
       "      <td>0.002009</td>\n",
       "      <td>0.0</td>\n",
       "      <td>0.5</td>\n",
       "      <td>...</td>\n",
       "      <td>0.0</td>\n",
       "      <td>0.0</td>\n",
       "      <td>0.0</td>\n",
       "      <td>0.000814</td>\n",
       "      <td>0.0</td>\n",
       "      <td>0.001217</td>\n",
       "      <td>0.000147</td>\n",
       "      <td>0.0</td>\n",
       "      <td>0.0</td>\n",
       "      <td>0.0</td>\n",
       "    </tr>\n",
       "  </tbody>\n",
       "</table>\n",
       "<p>5 rows × 51 columns</p>\n",
       "</div>"
      ],
      "text/plain": [
       "    0         1    2    3    4         5         6         7    8    9   ...  \\\n",
       "0  0.0  0.005294  0.5  0.0  0.0  0.012291  0.075099  0.002009  0.0  0.5  ...   \n",
       "1  0.0  0.005407  0.5  0.0  0.0  0.012291  0.075099  0.002009  0.0  0.5  ...   \n",
       "2  0.0  0.005520  0.5  0.0  0.0  0.012291  0.075099  0.002009  0.0  0.5  ...   \n",
       "3  0.0  0.005801  0.5  0.0  0.0  0.012291  0.075099  0.002009  0.0  0.5  ...   \n",
       "4  0.0  0.005576  0.5  0.0  0.0  0.012291  0.075099  0.002009  0.0  0.5  ...   \n",
       "\n",
       "    41   42   43        44   45        46        47   48   49   50  \n",
       "0  0.0  0.0  0.0  0.000814  0.0  0.001217  0.000147  0.0  0.0  0.0  \n",
       "1  0.0  0.0  0.0  0.000814  0.0  0.001217  0.000147  0.0  0.0  0.0  \n",
       "2  0.0  0.0  0.0  0.000814  0.0  0.001217  0.000147  0.0  0.0  0.0  \n",
       "3  0.0  0.0  0.0  0.000814  0.0  0.001217  0.000147  0.0  0.0  0.0  \n",
       "4  0.0  0.0  0.0  0.000814  0.0  0.001217  0.000147  0.0  0.0  0.0  \n",
       "\n",
       "[5 rows x 51 columns]"
      ]
     },
     "execution_count": 3,
     "metadata": {},
     "output_type": "execute_result"
    }
   ],
   "source": [
    "# path_train = \"/content/drive/MyDrive/Hackathon/Anomaly Detection/Dataset/train_data.npy\"                # 'data/train_data.npy'\n",
    "# path_test = \"/content/drive/MyDrive/Hackathon/Anomaly Detection/Dataset/test_data.npy\"\n",
    "# path_test_label = \"/content/drive/MyDrive/Hackathon/Anomaly Detection/Dataset/test_label.npy\"\n",
    "\n",
    "path_train = \"../Dataset/train_data.npy\"\n",
    "path_test = \"../Dataset/test_data.npy\"\n",
    "path_test_label = \"../Dataset/test_label.npy\"\n",
    "\n",
    "df_train = pd.DataFrame(np.load(path_train))\n",
    "df_test =  pd.DataFrame(np.load(path_test))\n",
    "y_df_test =  pd.DataFrame(np.load(path_test_label))\n",
    "\n",
    "df_train.head()"
   ]
  },
  {
   "cell_type": "code",
   "execution_count": 4,
   "metadata": {
    "ExecuteTime": {
     "end_time": "2024-11-16T09:52:30.228663Z",
     "start_time": "2024-11-16T09:52:29.806651Z"
    },
    "executionInfo": {
     "elapsed": 791,
     "status": "ok",
     "timestamp": 1731758892375,
     "user": {
      "displayName": "Volker Drewes",
      "userId": "09669654110949049688"
     },
     "user_tz": -60
    },
    "id": "5y1LluzovjwB"
   },
   "outputs": [],
   "source": [
    "def data_engineering(df):\n",
    "    scaler = StandardScaler()\n",
    "    scaled_data = scaler.fit_transform(df)\n",
    "    scaled_df = pd.DataFrame(scaled_data)\n",
    "    return scaled_df, scaler\n",
    "\n",
    "\n",
    "df_train, train_scaler = data_engineering(df_train)\n",
    "df_test, _ = data_engineering(df_test)"
   ]
  },
  {
   "cell_type": "code",
   "execution_count": 5,
   "metadata": {
    "ExecuteTime": {
     "end_time": "2024-11-16T09:52:36.338070Z",
     "start_time": "2024-11-16T09:52:36.331096Z"
    },
    "executionInfo": {
     "elapsed": 6,
     "status": "ok",
     "timestamp": 1731758892376,
     "user": {
      "displayName": "Volker Drewes",
      "userId": "09669654110949049688"
     },
     "user_tz": -60
    },
    "id": "xcYAE7PJvjwC"
   },
   "outputs": [],
   "source": [
    "df_train = df_train.values.reshape((df_train.shape[0], df_train.shape[1], 1))\n",
    "df_test = df_test.values.reshape((df_test.shape[0], df_test.shape[1], 1))"
   ]
  },
  {
   "cell_type": "code",
   "execution_count": 6,
   "metadata": {
    "ExecuteTime": {
     "end_time": "2024-11-16T09:53:29.424389Z",
     "start_time": "2024-11-16T09:53:29.406389Z"
    },
    "executionInfo": {
     "elapsed": 6,
     "status": "ok",
     "timestamp": 1731758892376,
     "user": {
      "displayName": "Volker Drewes",
      "userId": "09669654110949049688"
     },
     "user_tz": -60
    },
    "id": "6putfJjNvjwC"
   },
   "outputs": [],
   "source": [
    "# LSTM model\n",
    "'''\n",
    "def get_model(input_shape):\n",
    "    model = keras.Sequential()\n",
    "\n",
    "    model.add(keras.layers.LSTM(units=128, input_shape=input_shape))\n",
    "    model.add(keras.layers.Dropout(rate=0.2))\n",
    "\n",
    "    model.add(keras.layers.RepeatVector(n=input_shape[0]))\n",
    "    model.add(keras.layers.LSTM(units=128, return_sequences=True))\n",
    "\n",
    "    model.add(keras.layers.Dropout(rate=0.2))\n",
    "    model.add(keras.layers.TimeDistributed(keras.layers.Dense(units=input_shape[1])))\n",
    "\n",
    "    model.compile(loss='mae', optimizer='adam')\n",
    "    return model\n",
    "\n",
    "\n",
    "def get_lstm_autoencoder(input_shape):\n",
    "    model = models.Sequential()\n",
    "\n",
    "    # Encoder part: LSTM layers to learn the input sequence\n",
    "    model.add(layers.LSTM(units=64, activation='relu', input_shape=input_shape, return_sequences=False))\n",
    "    model.add(layers.RepeatVector(input_shape[0]))  # Repeat the encoded vector for the decoder\n",
    "\n",
    "    # Decoder part: LSTM layers to reconstruct the original sequence\n",
    "    model.add(layers.LSTM(units=64, activation='relu', return_sequences=True))\n",
    "    model.add(layers.TimeDistributed(layers.Dense(units=input_shape[1])))  # Reconstruct the sequence\n",
    "\n",
    "    # Compile the model\n",
    "    model.compile(optimizer='adam', loss='mean_squared_error')\n",
    "\n",
    "    return model\n",
    "\n",
    "'''\n",
    "\n",
    "\n",
    "def get_lstm_autoencoder(input_shape):\n",
    "    model = models.Sequential()\n",
    "\n",
    "    # Encoder part: Stacked LSTM layers to learn the input sequence\n",
    "    model.add(layers.LSTM(units=128, activation='relu', input_shape=input_shape, return_sequences=True))\n",
    "    model.add(layers.Dropout(0.2))  # Regularization\n",
    "    model.add(layers.LSTM(units=64, activation='relu', return_sequences=False))\n",
    "    model.add(layers.RepeatVector(input_shape[0]))  # Repeat the encoded vector for the decoder\n",
    "\n",
    "    # Decoder part: Stacked LSTM layers to reconstruct the original sequence\n",
    "    model.add(layers.LSTM(units=64, activation='relu', return_sequences=True))\n",
    "    model.add(layers.Dropout(0.2))  # Regularization\n",
    "    model.add(layers.LSTM(units=128, activation='relu', return_sequences=True))\n",
    "    model.add(layers.TimeDistributed(layers.Dense(units=input_shape[1])))  # Reconstruct the sequence\n",
    "\n",
    "    # Compile the model\n",
    "    model.compile(optimizer='adam', loss='mean_squared_error')\n",
    "\n",
    "    return model"
   ]
  },
  {
   "cell_type": "code",
   "execution_count": 7,
   "metadata": {
    "ExecuteTime": {
     "end_time": "2024-11-16T09:53:30.974258Z",
     "start_time": "2024-11-16T09:53:30.393738Z"
    },
    "colab": {
     "base_uri": "https://localhost:8080/",
     "height": 405
    },
    "executionInfo": {
     "elapsed": 2780,
     "status": "ok",
     "timestamp": 1731758895152,
     "user": {
      "displayName": "Volker Drewes",
      "userId": "09669654110949049688"
     },
     "user_tz": -60
    },
    "id": "5t0LDSeqvjwD",
    "outputId": "e11f6a90-f502-4a60-98f0-8383c6da6cd4"
   },
   "outputs": [
    {
     "name": "stdout",
     "output_type": "stream",
     "text": [
      "WARNING:tensorflow:Layer lstm will not use cuDNN kernels since it doesn't meet the criteria. It will use a generic GPU kernel as fallback when running on GPU.\n",
      "WARNING:tensorflow:Layer lstm_1 will not use cuDNN kernels since it doesn't meet the criteria. It will use a generic GPU kernel as fallback when running on GPU.\n",
      "WARNING:tensorflow:Layer lstm_2 will not use cuDNN kernels since it doesn't meet the criteria. It will use a generic GPU kernel as fallback when running on GPU.\n"
     ]
    },
    {
     "name": "stderr",
     "output_type": "stream",
     "text": [
      "2024-11-17 01:49:51.226162: I external/local_xla/xla/stream_executor/cuda/cuda_executor.cc:887] could not open file to read NUMA node: /sys/bus/pci/devices/0000:01:00.0/numa_node\n",
      "Your kernel may have been built without NUMA support.\n",
      "2024-11-17 01:49:51.226227: I external/local_xla/xla/stream_executor/cuda/cuda_executor.cc:887] could not open file to read NUMA node: /sys/bus/pci/devices/0000:01:00.0/numa_node\n",
      "Your kernel may have been built without NUMA support.\n",
      "2024-11-17 01:49:51.226245: I external/local_xla/xla/stream_executor/cuda/cuda_executor.cc:887] could not open file to read NUMA node: /sys/bus/pci/devices/0000:01:00.0/numa_node\n",
      "Your kernel may have been built without NUMA support.\n",
      "2024-11-17 01:49:51.226503: I external/local_xla/xla/stream_executor/cuda/cuda_executor.cc:887] could not open file to read NUMA node: /sys/bus/pci/devices/0000:01:00.0/numa_node\n",
      "Your kernel may have been built without NUMA support.\n",
      "2024-11-17 01:49:51.226521: I tensorflow/core/common_runtime/gpu/gpu_device.cc:2022] Could not identify NUMA node of platform GPU id 0, defaulting to 0.  Your kernel may not have been built with NUMA support.\n",
      "2024-11-17 01:49:51.226549: I external/local_xla/xla/stream_executor/cuda/cuda_executor.cc:887] could not open file to read NUMA node: /sys/bus/pci/devices/0000:01:00.0/numa_node\n",
      "Your kernel may have been built without NUMA support.\n",
      "2024-11-17 01:49:51.226565: I tensorflow/core/common_runtime/gpu/gpu_device.cc:1929] Created device /job:localhost/replica:0/task:0/device:GPU:0 with 21458 MB memory:  -> device: 0, name: NVIDIA GeForce RTX 4090, pci bus id: 0000:01:00.0, compute capability: 8.9\n"
     ]
    },
    {
     "name": "stdout",
     "output_type": "stream",
     "text": [
      "WARNING:tensorflow:Layer lstm_3 will not use cuDNN kernels since it doesn't meet the criteria. It will use a generic GPU kernel as fallback when running on GPU.\n",
      "Model: \"sequential\"\n",
      "_________________________________________________________________\n",
      " Layer (type)                Output Shape              Param #   \n",
      "=================================================================\n",
      " lstm (LSTM)                 (None, 51, 128)           66560     \n",
      "                                                                 \n",
      " dropout (Dropout)           (None, 51, 128)           0         \n",
      "                                                                 \n",
      " lstm_1 (LSTM)               (None, 64)                49408     \n",
      "                                                                 \n",
      " repeat_vector (RepeatVecto  (None, 51, 64)            0         \n",
      " r)                                                              \n",
      "                                                                 \n",
      " lstm_2 (LSTM)               (None, 51, 64)            33024     \n",
      "                                                                 \n",
      " dropout_1 (Dropout)         (None, 51, 64)            0         \n",
      "                                                                 \n",
      " lstm_3 (LSTM)               (None, 51, 128)           98816     \n",
      "                                                                 \n",
      " time_distributed (TimeDist  (None, 51, 1)             129       \n",
      " ributed)                                                        \n",
      "                                                                 \n",
      "=================================================================\n",
      "Total params: 247937 (968.50 KB)\n",
      "Trainable params: 247937 (968.50 KB)\n",
      "Non-trainable params: 0 (0.00 Byte)\n",
      "_________________________________________________________________\n"
     ]
    }
   ],
   "source": [
    "input_shape = (df_train.shape[1], df_train.shape[2])\n",
    "# model = get_model(input_shape)\n",
    "model = get_lstm_autoencoder(input_shape)\n",
    "model.summary()"
   ]
  },
  {
   "cell_type": "code",
   "execution_count": 8,
   "metadata": {
    "ExecuteTime": {
     "end_time": "2024-11-16T10:12:33.924751Z",
     "start_time": "2024-11-16T09:59:50.819969Z"
    },
    "colab": {
     "base_uri": "https://localhost:8080/",
     "height": 428
    },
    "executionInfo": {
     "elapsed": 142822,
     "status": "error",
     "timestamp": 1731761748872,
     "user": {
      "displayName": "Volker Drewes",
      "userId": "09669654110949049688"
     },
     "user_tz": -60
    },
    "id": "yCXFjcjevjwD",
    "outputId": "25377052-4a7a-468f-e49f-2ecc36984cb6"
   },
   "outputs": [
    {
     "name": "stdout",
     "output_type": "stream",
     "text": [
      "Epoch 1/50\n"
     ]
    },
    {
     "name": "stderr",
     "output_type": "stream",
     "text": [
      "2024-11-17 01:49:54.837684: I external/local_xla/xla/service/service.cc:168] XLA service 0x7fdfc0a0e460 initialized for platform CUDA (this does not guarantee that XLA will be used). Devices:\n",
      "2024-11-17 01:49:54.837718: I external/local_xla/xla/service/service.cc:176]   StreamExecutor device (0): NVIDIA GeForce RTX 4090, Compute Capability 8.9\n",
      "2024-11-17 01:49:54.841205: I tensorflow/compiler/mlir/tensorflow/utils/dump_mlir_util.cc:269] disabling MLIR crash reproducer, set env var `MLIR_CRASH_REPRODUCER_DIRECTORY` to enable.\n",
      "2024-11-17 01:49:54.852463: I external/local_xla/xla/stream_executor/cuda/cuda_dnn.cc:454] Loaded cuDNN version 8907\n",
      "WARNING: All log messages before absl::InitializeLog() is called are written to STDERR\n",
      "I0000 00:00:1731804594.892898   95089 device_compiler.h:186] Compiled cluster using XLA!  This line is logged at most once for the lifetime of the process.\n"
     ]
    },
    {
     "name": "stdout",
     "output_type": "stream",
     "text": [
      "3868/3868 [==============================] - ETA: 0s - loss: 603123.3125WARNING:tensorflow:Early stopping conditioned on metric `val_loss` which is not available. Available metrics are: loss\n",
      "WARNING:tensorflow:Can save best model only with val_loss available, skipping.\n",
      "WARNING:tensorflow:Learning rate reduction is conditioned on metric `val_loss` which is not available. Available metrics are: loss,lr\n",
      "3868/3868 [==============================] - 899s 232ms/step - loss: 603123.3125 - lr: 0.0010\n",
      "Epoch 2/50\n",
      "3868/3868 [==============================] - ETA: 0s - loss: 2.3366WARNING:tensorflow:Early stopping conditioned on metric `val_loss` which is not available. Available metrics are: loss\n",
      "WARNING:tensorflow:Can save best model only with val_loss available, skipping.\n",
      "WARNING:tensorflow:Learning rate reduction is conditioned on metric `val_loss` which is not available. Available metrics are: loss,lr\n",
      "3868/3868 [==============================] - 881s 228ms/step - loss: 2.3366 - lr: 0.0010\n",
      "Epoch 3/50\n",
      "3868/3868 [==============================] - ETA: 0s - loss: 447.9558WARNING:tensorflow:Early stopping conditioned on metric `val_loss` which is not available. Available metrics are: loss\n",
      "WARNING:tensorflow:Can save best model only with val_loss available, skipping.\n",
      "WARNING:tensorflow:Learning rate reduction is conditioned on metric `val_loss` which is not available. Available metrics are: loss,lr\n",
      "3868/3868 [==============================] - 878s 227ms/step - loss: 447.9558 - lr: 0.0010\n",
      "Epoch 4/50\n",
      "3868/3868 [==============================] - ETA: 0s - loss: 0.7843WARNING:tensorflow:Early stopping conditioned on metric `val_loss` which is not available. Available metrics are: loss\n",
      "WARNING:tensorflow:Can save best model only with val_loss available, skipping.\n",
      "WARNING:tensorflow:Learning rate reduction is conditioned on metric `val_loss` which is not available. Available metrics are: loss,lr\n",
      "3868/3868 [==============================] - 881s 228ms/step - loss: 0.7843 - lr: 0.0010\n",
      "Epoch 5/50\n",
      "3868/3868 [==============================] - ETA: 0s - loss: nanWARNING:tensorflow:Early stopping conditioned on metric `val_loss` which is not available. Available metrics are: loss\n",
      "WARNING:tensorflow:Can save best model only with val_loss available, skipping.\n",
      "WARNING:tensorflow:Learning rate reduction is conditioned on metric `val_loss` which is not available. Available metrics are: loss,lr\n",
      "3868/3868 [==============================] - 880s 227ms/step - loss: nan - lr: 0.0010\n",
      "Epoch 6/50\n",
      "3868/3868 [==============================] - ETA: 0s - loss: nanWARNING:tensorflow:Early stopping conditioned on metric `val_loss` which is not available. Available metrics are: loss\n",
      "WARNING:tensorflow:Can save best model only with val_loss available, skipping.\n",
      "WARNING:tensorflow:Learning rate reduction is conditioned on metric `val_loss` which is not available. Available metrics are: loss,lr\n",
      "3868/3868 [==============================] - 886s 229ms/step - loss: nan - lr: 0.0010\n",
      "Epoch 7/50\n",
      "3868/3868 [==============================] - ETA: 0s - loss: nanWARNING:tensorflow:Early stopping conditioned on metric `val_loss` which is not available. Available metrics are: loss\n",
      "WARNING:tensorflow:Can save best model only with val_loss available, skipping.\n",
      "WARNING:tensorflow:Learning rate reduction is conditioned on metric `val_loss` which is not available. Available metrics are: loss,lr\n",
      "3868/3868 [==============================] - 883s 228ms/step - loss: nan - lr: 0.0010\n",
      "Epoch 8/50\n",
      "3868/3868 [==============================] - ETA: 0s - loss: nanWARNING:tensorflow:Early stopping conditioned on metric `val_loss` which is not available. Available metrics are: loss\n",
      "WARNING:tensorflow:Can save best model only with val_loss available, skipping.\n",
      "WARNING:tensorflow:Learning rate reduction is conditioned on metric `val_loss` which is not available. Available metrics are: loss,lr\n",
      "3868/3868 [==============================] - 885s 229ms/step - loss: nan - lr: 0.0010\n",
      "Epoch 9/50\n",
      "3868/3868 [==============================] - ETA: 0s - loss: nanWARNING:tensorflow:Early stopping conditioned on metric `val_loss` which is not available. Available metrics are: loss\n",
      "WARNING:tensorflow:Can save best model only with val_loss available, skipping.\n",
      "WARNING:tensorflow:Learning rate reduction is conditioned on metric `val_loss` which is not available. Available metrics are: loss,lr\n",
      "3868/3868 [==============================] - 885s 229ms/step - loss: nan - lr: 0.0010\n",
      "Epoch 10/50\n",
      "3868/3868 [==============================] - ETA: 0s - loss: nanWARNING:tensorflow:Early stopping conditioned on metric `val_loss` which is not available. Available metrics are: loss\n",
      "WARNING:tensorflow:Can save best model only with val_loss available, skipping.\n",
      "WARNING:tensorflow:Learning rate reduction is conditioned on metric `val_loss` which is not available. Available metrics are: loss,lr\n",
      "3868/3868 [==============================] - 882s 228ms/step - loss: nan - lr: 0.0010\n",
      "Epoch 11/50\n",
      "3868/3868 [==============================] - ETA: 0s - loss: nanWARNING:tensorflow:Early stopping conditioned on metric `val_loss` which is not available. Available metrics are: loss\n",
      "WARNING:tensorflow:Can save best model only with val_loss available, skipping.\n",
      "WARNING:tensorflow:Learning rate reduction is conditioned on metric `val_loss` which is not available. Available metrics are: loss,lr\n",
      "3868/3868 [==============================] - 886s 229ms/step - loss: nan - lr: 0.0010\n",
      "Epoch 12/50\n",
      "3868/3868 [==============================] - ETA: 0s - loss: nanWARNING:tensorflow:Early stopping conditioned on metric `val_loss` which is not available. Available metrics are: loss\n",
      "WARNING:tensorflow:Can save best model only with val_loss available, skipping.\n",
      "WARNING:tensorflow:Learning rate reduction is conditioned on metric `val_loss` which is not available. Available metrics are: loss,lr\n",
      "3868/3868 [==============================] - 888s 230ms/step - loss: nan - lr: 0.0010\n",
      "Epoch 13/50\n",
      "3868/3868 [==============================] - ETA: 0s - loss: nanWARNING:tensorflow:Early stopping conditioned on metric `val_loss` which is not available. Available metrics are: loss\n",
      "WARNING:tensorflow:Can save best model only with val_loss available, skipping.\n",
      "WARNING:tensorflow:Learning rate reduction is conditioned on metric `val_loss` which is not available. Available metrics are: loss,lr\n",
      "3868/3868 [==============================] - 893s 231ms/step - loss: nan - lr: 0.0010\n",
      "Epoch 14/50\n",
      "3868/3868 [==============================] - ETA: 0s - loss: nanWARNING:tensorflow:Early stopping conditioned on metric `val_loss` which is not available. Available metrics are: loss\n",
      "WARNING:tensorflow:Can save best model only with val_loss available, skipping.\n",
      "WARNING:tensorflow:Learning rate reduction is conditioned on metric `val_loss` which is not available. Available metrics are: loss,lr\n",
      "3868/3868 [==============================] - 893s 231ms/step - loss: nan - lr: 0.0010\n",
      "Epoch 15/50\n",
      "3868/3868 [==============================] - ETA: 0s - loss: nanWARNING:tensorflow:Early stopping conditioned on metric `val_loss` which is not available. Available metrics are: loss\n",
      "WARNING:tensorflow:Can save best model only with val_loss available, skipping.\n",
      "WARNING:tensorflow:Learning rate reduction is conditioned on metric `val_loss` which is not available. Available metrics are: loss,lr\n",
      "3868/3868 [==============================] - 892s 230ms/step - loss: nan - lr: 0.0010\n",
      "Epoch 16/50\n",
      "3868/3868 [==============================] - ETA: 0s - loss: nanWARNING:tensorflow:Early stopping conditioned on metric `val_loss` which is not available. Available metrics are: loss\n",
      "WARNING:tensorflow:Can save best model only with val_loss available, skipping.\n",
      "WARNING:tensorflow:Learning rate reduction is conditioned on metric `val_loss` which is not available. Available metrics are: loss,lr\n",
      "3868/3868 [==============================] - 919s 237ms/step - loss: nan - lr: 0.0010\n",
      "Epoch 17/50\n",
      "3868/3868 [==============================] - ETA: 0s - loss: nanWARNING:tensorflow:Early stopping conditioned on metric `val_loss` which is not available. Available metrics are: loss\n",
      "WARNING:tensorflow:Can save best model only with val_loss available, skipping.\n",
      "WARNING:tensorflow:Learning rate reduction is conditioned on metric `val_loss` which is not available. Available metrics are: loss,lr\n",
      "3868/3868 [==============================] - 925s 239ms/step - loss: nan - lr: 0.0010\n",
      "Epoch 18/50\n",
      "3868/3868 [==============================] - ETA: 0s - loss: nanWARNING:tensorflow:Early stopping conditioned on metric `val_loss` which is not available. Available metrics are: loss\n",
      "WARNING:tensorflow:Can save best model only with val_loss available, skipping.\n",
      "WARNING:tensorflow:Learning rate reduction is conditioned on metric `val_loss` which is not available. Available metrics are: loss,lr\n",
      "3868/3868 [==============================] - 912s 236ms/step - loss: nan - lr: 0.0010\n",
      "Epoch 19/50\n",
      "3868/3868 [==============================] - ETA: 0s - loss: nanWARNING:tensorflow:Early stopping conditioned on metric `val_loss` which is not available. Available metrics are: loss\n",
      "WARNING:tensorflow:Can save best model only with val_loss available, skipping.\n",
      "WARNING:tensorflow:Learning rate reduction is conditioned on metric `val_loss` which is not available. Available metrics are: loss,lr\n",
      "3868/3868 [==============================] - 930s 240ms/step - loss: nan - lr: 0.0010\n",
      "Epoch 20/50\n",
      "3868/3868 [==============================] - ETA: 0s - loss: nanWARNING:tensorflow:Early stopping conditioned on metric `val_loss` which is not available. Available metrics are: loss\n",
      "WARNING:tensorflow:Can save best model only with val_loss available, skipping.\n",
      "WARNING:tensorflow:Learning rate reduction is conditioned on metric `val_loss` which is not available. Available metrics are: loss,lr\n",
      "3868/3868 [==============================] - 903s 233ms/step - loss: nan - lr: 0.0010\n",
      "Epoch 21/50\n",
      "3868/3868 [==============================] - ETA: 0s - loss: nanWARNING:tensorflow:Early stopping conditioned on metric `val_loss` which is not available. Available metrics are: loss\n",
      "WARNING:tensorflow:Can save best model only with val_loss available, skipping.\n",
      "WARNING:tensorflow:Learning rate reduction is conditioned on metric `val_loss` which is not available. Available metrics are: loss,lr\n",
      "3868/3868 [==============================] - 906s 234ms/step - loss: nan - lr: 0.0010\n",
      "Epoch 22/50\n",
      "3868/3868 [==============================] - ETA: 0s - loss: nanWARNING:tensorflow:Early stopping conditioned on metric `val_loss` which is not available. Available metrics are: loss\n",
      "WARNING:tensorflow:Can save best model only with val_loss available, skipping.\n",
      "WARNING:tensorflow:Learning rate reduction is conditioned on metric `val_loss` which is not available. Available metrics are: loss,lr\n",
      "3868/3868 [==============================] - 906s 234ms/step - loss: nan - lr: 0.0010\n",
      "Epoch 23/50\n",
      "3868/3868 [==============================] - ETA: 0s - loss: nanWARNING:tensorflow:Early stopping conditioned on metric `val_loss` which is not available. Available metrics are: loss\n",
      "WARNING:tensorflow:Can save best model only with val_loss available, skipping.\n",
      "WARNING:tensorflow:Learning rate reduction is conditioned on metric `val_loss` which is not available. Available metrics are: loss,lr\n",
      "3868/3868 [==============================] - 924s 239ms/step - loss: nan - lr: 0.0010\n",
      "Epoch 24/50\n",
      "3868/3868 [==============================] - ETA: 0s - loss: nanWARNING:tensorflow:Early stopping conditioned on metric `val_loss` which is not available. Available metrics are: loss\n",
      "WARNING:tensorflow:Can save best model only with val_loss available, skipping.\n",
      "WARNING:tensorflow:Learning rate reduction is conditioned on metric `val_loss` which is not available. Available metrics are: loss,lr\n",
      "3868/3868 [==============================] - 924s 239ms/step - loss: nan - lr: 0.0010\n",
      "Epoch 25/50\n",
      "3868/3868 [==============================] - ETA: 0s - loss: nanWARNING:tensorflow:Early stopping conditioned on metric `val_loss` which is not available. Available metrics are: loss\n",
      "WARNING:tensorflow:Can save best model only with val_loss available, skipping.\n",
      "WARNING:tensorflow:Learning rate reduction is conditioned on metric `val_loss` which is not available. Available metrics are: loss,lr\n",
      "3868/3868 [==============================] - 940s 243ms/step - loss: nan - lr: 0.0010\n",
      "Epoch 26/50\n",
      "3868/3868 [==============================] - ETA: 0s - loss: nanWARNING:tensorflow:Early stopping conditioned on metric `val_loss` which is not available. Available metrics are: loss\n",
      "WARNING:tensorflow:Can save best model only with val_loss available, skipping.\n",
      "WARNING:tensorflow:Learning rate reduction is conditioned on metric `val_loss` which is not available. Available metrics are: loss,lr\n",
      "3868/3868 [==============================] - 947s 245ms/step - loss: nan - lr: 0.0010\n",
      "Epoch 27/50\n",
      "3868/3868 [==============================] - ETA: 0s - loss: nanWARNING:tensorflow:Early stopping conditioned on metric `val_loss` which is not available. Available metrics are: loss\n",
      "WARNING:tensorflow:Can save best model only with val_loss available, skipping.\n",
      "WARNING:tensorflow:Learning rate reduction is conditioned on metric `val_loss` which is not available. Available metrics are: loss,lr\n",
      "3868/3868 [==============================] - 925s 239ms/step - loss: nan - lr: 0.0010\n",
      "Epoch 28/50\n",
      "3868/3868 [==============================] - ETA: 0s - loss: nanWARNING:tensorflow:Early stopping conditioned on metric `val_loss` which is not available. Available metrics are: loss\n",
      "WARNING:tensorflow:Can save best model only with val_loss available, skipping.\n",
      "WARNING:tensorflow:Learning rate reduction is conditioned on metric `val_loss` which is not available. Available metrics are: loss,lr\n",
      "3868/3868 [==============================] - 918s 237ms/step - loss: nan - lr: 0.0010\n",
      "Epoch 29/50\n",
      "3868/3868 [==============================] - ETA: 0s - loss: nanWARNING:tensorflow:Early stopping conditioned on metric `val_loss` which is not available. Available metrics are: loss\n",
      "WARNING:tensorflow:Can save best model only with val_loss available, skipping.\n",
      "WARNING:tensorflow:Learning rate reduction is conditioned on metric `val_loss` which is not available. Available metrics are: loss,lr\n",
      "3868/3868 [==============================] - 939s 243ms/step - loss: nan - lr: 0.0010\n",
      "Epoch 30/50\n",
      "3868/3868 [==============================] - ETA: 0s - loss: nanWARNING:tensorflow:Early stopping conditioned on metric `val_loss` which is not available. Available metrics are: loss\n",
      "WARNING:tensorflow:Can save best model only with val_loss available, skipping.\n",
      "WARNING:tensorflow:Learning rate reduction is conditioned on metric `val_loss` which is not available. Available metrics are: loss,lr\n",
      "3868/3868 [==============================] - 940s 243ms/step - loss: nan - lr: 0.0010\n",
      "Epoch 31/50\n",
      "3868/3868 [==============================] - ETA: 0s - loss: nanWARNING:tensorflow:Early stopping conditioned on metric `val_loss` which is not available. Available metrics are: loss\n",
      "WARNING:tensorflow:Can save best model only with val_loss available, skipping.\n",
      "WARNING:tensorflow:Learning rate reduction is conditioned on metric `val_loss` which is not available. Available metrics are: loss,lr\n",
      "3868/3868 [==============================] - 940s 243ms/step - loss: nan - lr: 0.0010\n",
      "Epoch 32/50\n",
      "3868/3868 [==============================] - ETA: 0s - loss: nanWARNING:tensorflow:Early stopping conditioned on metric `val_loss` which is not available. Available metrics are: loss\n",
      "WARNING:tensorflow:Can save best model only with val_loss available, skipping.\n",
      "WARNING:tensorflow:Learning rate reduction is conditioned on metric `val_loss` which is not available. Available metrics are: loss,lr\n",
      "3868/3868 [==============================] - 944s 244ms/step - loss: nan - lr: 0.0010\n",
      "Epoch 33/50\n",
      "3868/3868 [==============================] - ETA: 0s - loss: nanWARNING:tensorflow:Early stopping conditioned on metric `val_loss` which is not available. Available metrics are: loss\n",
      "WARNING:tensorflow:Can save best model only with val_loss available, skipping.\n",
      "WARNING:tensorflow:Learning rate reduction is conditioned on metric `val_loss` which is not available. Available metrics are: loss,lr\n",
      "3868/3868 [==============================] - 944s 244ms/step - loss: nan - lr: 0.0010\n",
      "Epoch 34/50\n",
      "3868/3868 [==============================] - ETA: 0s - loss: nanWARNING:tensorflow:Early stopping conditioned on metric `val_loss` which is not available. Available metrics are: loss\n",
      "WARNING:tensorflow:Can save best model only with val_loss available, skipping.\n",
      "WARNING:tensorflow:Learning rate reduction is conditioned on metric `val_loss` which is not available. Available metrics are: loss,lr\n",
      "3868/3868 [==============================] - 945s 244ms/step - loss: nan - lr: 0.0010\n",
      "Epoch 35/50\n",
      "3868/3868 [==============================] - ETA: 0s - loss: nanWARNING:tensorflow:Early stopping conditioned on metric `val_loss` which is not available. Available metrics are: loss\n",
      "WARNING:tensorflow:Can save best model only with val_loss available, skipping.\n",
      "WARNING:tensorflow:Learning rate reduction is conditioned on metric `val_loss` which is not available. Available metrics are: loss,lr\n",
      "3868/3868 [==============================] - 942s 243ms/step - loss: nan - lr: 0.0010\n",
      "Epoch 36/50\n",
      "3868/3868 [==============================] - ETA: 0s - loss: nanWARNING:tensorflow:Early stopping conditioned on metric `val_loss` which is not available. Available metrics are: loss\n",
      "WARNING:tensorflow:Can save best model only with val_loss available, skipping.\n",
      "WARNING:tensorflow:Learning rate reduction is conditioned on metric `val_loss` which is not available. Available metrics are: loss,lr\n",
      "3868/3868 [==============================] - 944s 244ms/step - loss: nan - lr: 0.0010\n",
      "Epoch 37/50\n",
      "3868/3868 [==============================] - ETA: 0s - loss: nanWARNING:tensorflow:Early stopping conditioned on metric `val_loss` which is not available. Available metrics are: loss\n",
      "WARNING:tensorflow:Can save best model only with val_loss available, skipping.\n",
      "WARNING:tensorflow:Learning rate reduction is conditioned on metric `val_loss` which is not available. Available metrics are: loss,lr\n",
      "3868/3868 [==============================] - 944s 244ms/step - loss: nan - lr: 0.0010\n",
      "Epoch 38/50\n",
      "3868/3868 [==============================] - ETA: 0s - loss: nanWARNING:tensorflow:Early stopping conditioned on metric `val_loss` which is not available. Available metrics are: loss\n",
      "WARNING:tensorflow:Can save best model only with val_loss available, skipping.\n",
      "WARNING:tensorflow:Learning rate reduction is conditioned on metric `val_loss` which is not available. Available metrics are: loss,lr\n",
      "3868/3868 [==============================] - 944s 244ms/step - loss: nan - lr: 0.0010\n",
      "Epoch 39/50\n",
      "3868/3868 [==============================] - ETA: 0s - loss: nanWARNING:tensorflow:Early stopping conditioned on metric `val_loss` which is not available. Available metrics are: loss\n",
      "WARNING:tensorflow:Can save best model only with val_loss available, skipping.\n",
      "WARNING:tensorflow:Learning rate reduction is conditioned on metric `val_loss` which is not available. Available metrics are: loss,lr\n",
      "3868/3868 [==============================] - 943s 244ms/step - loss: nan - lr: 0.0010\n",
      "Epoch 40/50\n",
      "3868/3868 [==============================] - ETA: 0s - loss: nanWARNING:tensorflow:Early stopping conditioned on metric `val_loss` which is not available. Available metrics are: loss\n",
      "WARNING:tensorflow:Can save best model only with val_loss available, skipping.\n",
      "WARNING:tensorflow:Learning rate reduction is conditioned on metric `val_loss` which is not available. Available metrics are: loss,lr\n",
      "3868/3868 [==============================] - 945s 244ms/step - loss: nan - lr: 0.0010\n",
      "Epoch 41/50\n",
      "3868/3868 [==============================] - ETA: 0s - loss: nanWARNING:tensorflow:Early stopping conditioned on metric `val_loss` which is not available. Available metrics are: loss\n",
      "WARNING:tensorflow:Can save best model only with val_loss available, skipping.\n",
      "WARNING:tensorflow:Learning rate reduction is conditioned on metric `val_loss` which is not available. Available metrics are: loss,lr\n",
      "3868/3868 [==============================] - 950s 246ms/step - loss: nan - lr: 0.0010\n",
      "Epoch 42/50\n",
      "3868/3868 [==============================] - ETA: 0s - loss: nanWARNING:tensorflow:Early stopping conditioned on metric `val_loss` which is not available. Available metrics are: loss\n",
      "WARNING:tensorflow:Can save best model only with val_loss available, skipping.\n",
      "WARNING:tensorflow:Learning rate reduction is conditioned on metric `val_loss` which is not available. Available metrics are: loss,lr\n",
      "3868/3868 [==============================] - 943s 244ms/step - loss: nan - lr: 0.0010\n",
      "Epoch 43/50\n",
      "3868/3868 [==============================] - ETA: 0s - loss: nanWARNING:tensorflow:Early stopping conditioned on metric `val_loss` which is not available. Available metrics are: loss\n",
      "WARNING:tensorflow:Can save best model only with val_loss available, skipping.\n",
      "WARNING:tensorflow:Learning rate reduction is conditioned on metric `val_loss` which is not available. Available metrics are: loss,lr\n",
      "3868/3868 [==============================] - 944s 244ms/step - loss: nan - lr: 0.0010\n",
      "Epoch 44/50\n",
      "3868/3868 [==============================] - ETA: 0s - loss: nanWARNING:tensorflow:Early stopping conditioned on metric `val_loss` which is not available. Available metrics are: loss\n",
      "WARNING:tensorflow:Can save best model only with val_loss available, skipping.\n",
      "WARNING:tensorflow:Learning rate reduction is conditioned on metric `val_loss` which is not available. Available metrics are: loss,lr\n",
      "3868/3868 [==============================] - 944s 244ms/step - loss: nan - lr: 0.0010\n",
      "Epoch 45/50\n",
      "3868/3868 [==============================] - ETA: 0s - loss: nanWARNING:tensorflow:Early stopping conditioned on metric `val_loss` which is not available. Available metrics are: loss\n",
      "WARNING:tensorflow:Can save best model only with val_loss available, skipping.\n",
      "WARNING:tensorflow:Learning rate reduction is conditioned on metric `val_loss` which is not available. Available metrics are: loss,lr\n",
      "3868/3868 [==============================] - 948s 245ms/step - loss: nan - lr: 0.0010\n",
      "Epoch 46/50\n",
      "3868/3868 [==============================] - ETA: 0s - loss: nanWARNING:tensorflow:Early stopping conditioned on metric `val_loss` which is not available. Available metrics are: loss\n",
      "WARNING:tensorflow:Can save best model only with val_loss available, skipping.\n",
      "WARNING:tensorflow:Learning rate reduction is conditioned on metric `val_loss` which is not available. Available metrics are: loss,lr\n",
      "3868/3868 [==============================] - 945s 244ms/step - loss: nan - lr: 0.0010\n",
      "Epoch 47/50\n",
      "3868/3868 [==============================] - ETA: 0s - loss: nanWARNING:tensorflow:Early stopping conditioned on metric `val_loss` which is not available. Available metrics are: loss\n",
      "WARNING:tensorflow:Can save best model only with val_loss available, skipping.\n",
      "WARNING:tensorflow:Learning rate reduction is conditioned on metric `val_loss` which is not available. Available metrics are: loss,lr\n",
      "3868/3868 [==============================] - 947s 245ms/step - loss: nan - lr: 0.0010\n",
      "Epoch 48/50\n",
      "3868/3868 [==============================] - ETA: 0s - loss: nanWARNING:tensorflow:Early stopping conditioned on metric `val_loss` which is not available. Available metrics are: loss\n",
      "WARNING:tensorflow:Can save best model only with val_loss available, skipping.\n",
      "WARNING:tensorflow:Learning rate reduction is conditioned on metric `val_loss` which is not available. Available metrics are: loss,lr\n",
      "3868/3868 [==============================] - 948s 245ms/step - loss: nan - lr: 0.0010\n",
      "Epoch 49/50\n",
      "3868/3868 [==============================] - ETA: 0s - loss: nanWARNING:tensorflow:Early stopping conditioned on metric `val_loss` which is not available. Available metrics are: loss\n",
      "WARNING:tensorflow:Can save best model only with val_loss available, skipping.\n",
      "WARNING:tensorflow:Learning rate reduction is conditioned on metric `val_loss` which is not available. Available metrics are: loss,lr\n",
      "3868/3868 [==============================] - 957s 247ms/step - loss: nan - lr: 0.0010\n",
      "Epoch 50/50\n",
      "3868/3868 [==============================] - ETA: 0s - loss: nanWARNING:tensorflow:Early stopping conditioned on metric `val_loss` which is not available. Available metrics are: loss\n",
      "WARNING:tensorflow:Can save best model only with val_loss available, skipping.\n",
      "WARNING:tensorflow:Learning rate reduction is conditioned on metric `val_loss` which is not available. Available metrics are: loss,lr\n",
      "3868/3868 [==============================] - 963s 249ms/step - loss: nan - lr: 0.0010\n"
     ]
    }
   ],
   "source": [
    "# Training\n",
    "BATCH_SIZE = 128\n",
    "N_STEPS = df_train.shape[1] // BATCH_SIZE\n",
    "BESTMODELFILENAME = \"../Dataset/bestModel_cgd.model.keras\"\n",
    "EPOCHS=50 #50\n",
    "\n",
    "early_stopping_callback = tf.keras.callbacks.EarlyStopping(\n",
    "    monitor='val_loss',\n",
    "    patience = 3,\n",
    "    verbose=0,\n",
    "    mode=\"auto\",\n",
    "    restore_best_weights = True)\n",
    "\n",
    "model_bestpoint_callback = tf.keras.callbacks.ModelCheckpoint(BESTMODELFILENAME, monitor=\"val_loss\", mode=\"min\", verbose=1, save_best_only=True)\n",
    "ReduceLROnPlateau_callback = tf.keras.callbacks.ReduceLROnPlateau(monitor=\"val_loss\", factor=0.1, patience=3, min_lr=1e-8)\n",
    "\n",
    "\n",
    "\n",
    "history_lstm = model.fit(\n",
    "    df_train, \n",
    "    df_train,\n",
    "    epochs=EPOCHS,\n",
    "    batch_size=BATCH_SIZE,\n",
    "    #validation_split=0.2,\n",
    "    #steps_per_epoch=N_STEPS,\n",
    "    shuffle=True,\n",
    "    callbacks=[early_stopping_callback, model_bestpoint_callback, ReduceLROnPlateau_callback])"
   ]
  },
  {
   "cell_type": "code",
   "execution_count": 9,
   "metadata": {
    "executionInfo": {
     "elapsed": 293,
     "status": "ok",
     "timestamp": 1731761412078,
     "user": {
      "displayName": "Volker Drewes",
      "userId": "09669654110949049688"
     },
     "user_tz": -60
    },
    "id": "ZynkfkZa2m7O"
   },
   "outputs": [],
   "source": [
    "def plot_metric(res, saveFileName, metric_name, title, ylim=5):\n",
    "    plt.title(title)\n",
    "    plt.ylim(0,ylim)\n",
    "    plt.plot(res.history[metric_name], color=\"blue\", label=metric_name)\n",
    "    # plt.plot(res.history[\"val_\" + metric_name], color=\"green\", label=\"val_\" + metric_name)\n",
    "    plt.xlabel(\"#epochs\")\n",
    "    plt.ylabel(metric_name)\n",
    "    plt.legend()\n",
    "    plt.savefig(saveFileName, dpi=300)\n",
    "    plt.show()"
   ]
  },
  {
   "cell_type": "code",
   "execution_count": 10,
   "metadata": {},
   "outputs": [
    {
     "data": {
      "text/plain": [
       "{'loss': [603123.3125,\n",
       "  2.336632013320923,\n",
       "  447.955810546875,\n",
       "  0.7842810750007629,\n",
       "  nan,\n",
       "  nan,\n",
       "  nan,\n",
       "  nan,\n",
       "  nan,\n",
       "  nan,\n",
       "  nan,\n",
       "  nan,\n",
       "  nan,\n",
       "  nan,\n",
       "  nan,\n",
       "  nan,\n",
       "  nan,\n",
       "  nan,\n",
       "  nan,\n",
       "  nan,\n",
       "  nan,\n",
       "  nan,\n",
       "  nan,\n",
       "  nan,\n",
       "  nan,\n",
       "  nan,\n",
       "  nan,\n",
       "  nan,\n",
       "  nan,\n",
       "  nan,\n",
       "  nan,\n",
       "  nan,\n",
       "  nan,\n",
       "  nan,\n",
       "  nan,\n",
       "  nan,\n",
       "  nan,\n",
       "  nan,\n",
       "  nan,\n",
       "  nan,\n",
       "  nan,\n",
       "  nan,\n",
       "  nan,\n",
       "  nan,\n",
       "  nan,\n",
       "  nan,\n",
       "  nan,\n",
       "  nan,\n",
       "  nan,\n",
       "  nan],\n",
       " 'lr': [0.001,\n",
       "  0.001,\n",
       "  0.001,\n",
       "  0.001,\n",
       "  0.001,\n",
       "  0.001,\n",
       "  0.001,\n",
       "  0.001,\n",
       "  0.001,\n",
       "  0.001,\n",
       "  0.001,\n",
       "  0.001,\n",
       "  0.001,\n",
       "  0.001,\n",
       "  0.001,\n",
       "  0.001,\n",
       "  0.001,\n",
       "  0.001,\n",
       "  0.001,\n",
       "  0.001,\n",
       "  0.001,\n",
       "  0.001,\n",
       "  0.001,\n",
       "  0.001,\n",
       "  0.001,\n",
       "  0.001,\n",
       "  0.001,\n",
       "  0.001,\n",
       "  0.001,\n",
       "  0.001,\n",
       "  0.001,\n",
       "  0.001,\n",
       "  0.001,\n",
       "  0.001,\n",
       "  0.001,\n",
       "  0.001,\n",
       "  0.001,\n",
       "  0.001,\n",
       "  0.001,\n",
       "  0.001,\n",
       "  0.001,\n",
       "  0.001,\n",
       "  0.001,\n",
       "  0.001,\n",
       "  0.001,\n",
       "  0.001,\n",
       "  0.001,\n",
       "  0.001,\n",
       "  0.001,\n",
       "  0.001]}"
      ]
     },
     "execution_count": 10,
     "metadata": {},
     "output_type": "execute_result"
    }
   ],
   "source": [
    "history_lstm.history"
   ]
  },
  {
   "cell_type": "code",
   "execution_count": 11,
   "metadata": {
    "colab": {
     "base_uri": "https://localhost:8080/",
     "height": 213
    },
    "executionInfo": {
     "elapsed": 257,
     "status": "error",
     "timestamp": 1731761493368,
     "user": {
      "displayName": "Volker Drewes",
      "userId": "09669654110949049688"
     },
     "user_tz": -60
    },
    "id": "MRrGHNno2m92",
    "outputId": "8761755a-6d01-4ffc-d837-f87fe4d41c45"
   },
   "outputs": [
    {
     "data": {
      "image/png": "[encoded data removed]",
      "text/plain": [
       "<Figure size 640x480 with 1 Axes>"
      ]
     },
     "metadata": {},
     "output_type": "display_data"
    }
   ],
   "source": [
    "LOSSFILENAME = \"./loss_file.png\"\n",
    "ACCFILENAME = \"./acc_file.png\"\n",
    "plot_metric(history_lstm, saveFileName=LOSSFILENAME, metric_name=\"loss\", title=\"Loss\", ylim=250000)\n",
    "# plot_metric(history_lstm, saveFileName=ACCFILENAME, metric_name=\"sparse_categorical_accuracy\", title=\"Accuracy\", ylim=1.0)"
   ]
  },
  {
   "cell_type": "code",
   "execution_count": null,
   "metadata": {
    "colab": {
     "base_uri": "https://localhost:8080/"
    },
    "executionInfo": {
     "elapsed": 338,
     "status": "ok",
     "timestamp": 1731761523239,
     "user": {
      "displayName": "Volker Drewes",
      "userId": "09669654110949049688"
     },
     "user_tz": -60
    },
    "id": "pf3ziO8T2nDO",
    "outputId": "5d7b4937-02fb-4865-ef37-1ce1e3aeea67"
   },
   "outputs": [],
   "source": []
  },
  {
   "cell_type": "code",
   "execution_count": 12,
   "metadata": {
    "ExecuteTime": {
     "end_time": "2024-11-16T10:17:53.057743Z",
     "start_time": "2024-11-16T10:12:33.940751Z"
    },
    "executionInfo": {
     "elapsed": 15,
     "status": "aborted",
     "timestamp": 1731761406087,
     "user": {
      "displayName": "Volker Drewes",
      "userId": "09669654110949049688"
     },
     "user_tz": -60
    },
    "id": "VTy47MrHvjwE"
   },
   "outputs": [
    {
     "name": "stdout",
     "output_type": "stream",
     "text": [
      "14060/14060 [==============================] - 403s 29ms/step\n"
     ]
    },
    {
     "data": {
      "image/png": "[encoded data removed]",
      "text/plain": [
       "<Figure size 640x480 with 1 Axes>"
      ]
     },
     "metadata": {},
     "output_type": "display_data"
    }
   ],
   "source": [
    "test_predictions = model.predict(df_test)\n",
    "\n",
    "# Visualization\n",
    "plt.plot(history_lstm.history['loss'], label='Training Loss')\n",
    "# plt.plot(history_lstm.history['val_loss'], label='Validation Loss')\n",
    "plt.legend()\n",
    "plt.show()"
   ]
  },
  {
   "cell_type": "code",
   "execution_count": 13,
   "metadata": {
    "ExecuteTime": {
     "end_time": "2024-11-16T10:23:30.957014Z",
     "start_time": "2024-11-16T10:23:30.174870Z"
    },
    "executionInfo": {
     "elapsed": 14,
     "status": "aborted",
     "timestamp": 1731761406087,
     "user": {
      "displayName": "Volker Drewes",
      "userId": "09669654110949049688"
     },
     "user_tz": -60
    },
    "id": "NeiVCEA1vjwF"
   },
   "outputs": [
    {
     "name": "stdout",
     "output_type": "stream",
     "text": [
      "percentile 95\n",
      "Number of predicted anomalies 0: Number of actual anomalies 0    54584\n",
      "dtype: int64\n",
      "Accuracy: 0.88\n",
      "Precision: 0.00\n",
      "Recall: 0.00\n",
      "F1-score: 0.00\n"
     ]
    }
   ],
   "source": [
    "from sklearn.metrics import f1_score, accuracy_score, precision_score, recall_score\n",
    "\n",
    "# Calculate reconstruction error\n",
    "reconstruction_error = np.mean(np.power(df_test - test_predictions, 2), axis=1)\n",
    "\n",
    "# Set a threshold for anomaly detection (e.g., 95th percentile)\n",
    "percentile = 95\n",
    "threshold = np.percentile(reconstruction_error, percentile)\n",
    "# Identify anomalies\n",
    "predicted_anomalies = reconstruction_error > threshold\n",
    "\n",
    "# Calculate F1 score\n",
    "f1 = f1_score(y_df_test, predicted_anomalies)\n",
    "accuracy = accuracy_score(y_df_test, predicted_anomalies)\n",
    "precision = precision_score(y_df_test, predicted_anomalies)\n",
    "recall = recall_score(y_df_test, predicted_anomalies)\n",
    "\n",
    "print(f\"percentile {percentile}\")\n",
    "print(f\"Number of predicted anomalies {predicted_anomalies.sum()}: Number of actual anomalies {y_df_test.sum()}\")\n",
    "print(f\"Accuracy: {accuracy:.2f}\")\n",
    "print(f\"Precision: {precision:.2f}\")\n",
    "print(f\"Recall: {recall:.2f}\")\n",
    "print(f\"F1-score: {f1:.2f}\")"
   ]
  },
  {
   "cell_type": "code",
   "execution_count": null,
   "metadata": {
    "executionInfo": {
     "elapsed": 14,
     "status": "aborted",
     "timestamp": 1731761406087,
     "user": {
      "displayName": "Volker Drewes",
      "userId": "09669654110949049688"
     },
     "user_tz": -60
    },
    "id": "hJ44C5Q2xFBR"
   },
   "outputs": [],
   "source": []
  }
 ],
 "metadata": {
  "accelerator": "GPU",
  "colab": {
   "gpuType": "T4",
   "provenance": []
  },
  "kernelspec": {
   "display_name": "tf215",
   "language": "python",
   "name": "python3"
  },
  "language_info": {
   "codemirror_mode": {
    "name": "ipython",
    "version": 3
   },
   "file_extension": ".py",
   "mimetype": "text/x-python",
   "name": "python",
   "nbconvert_exporter": "python",
   "pygments_lexer": "ipython3",
   "version": "3.10.13"
  }
 },
 "nbformat": 4,
 "nbformat_minor": 0
}
